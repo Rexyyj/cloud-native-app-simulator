{
 "cells": [
  {
   "cell_type": "code",
   "execution_count": 1,
   "metadata": {},
   "outputs": [],
   "source": [
    "import yaml\n",
    "import os\n",
    "import numpy as np\n",
    "import json"
   ]
  },
  {
   "cell_type": "code",
   "execution_count": 2,
   "metadata": {},
   "outputs": [],
   "source": [
    "input_folder = \"./k8s_raw/\"\n",
    "output_folder= \"./k8s_converted/\""
   ]
  },
  {
   "cell_type": "code",
   "execution_count": 3,
   "metadata": {},
   "outputs": [],
   "source": [
    "qualities = [1,2,3]\n",
    "instances = [1,2,3,4,5]\n"
   ]
  },
  {
   "cell_type": "code",
   "execution_count": 4,
   "metadata": {},
   "outputs": [],
   "source": [
    "def change_quality_complexisty(config, quality):\n",
    "    config_json = json.loads(config)\n",
    "    config_json[\"endpoints\"][0][\"cpu_complexity\"][\"execution_time\"] *=quality\n",
    "    config_str = json.dumps(config_json)\n",
    "    return config_str.replace(\"\\n\", \"\")"
   ]
  },
  {
   "cell_type": "code",
   "execution_count": 5,
   "metadata": {},
   "outputs": [],
   "source": [
    "try:\n",
    "    os.mkdir(output_folder)\n",
    "except:\n",
    "    os.system(\"rm -rf \"+output_folder)\n",
    "    os.mkdir(output_folder)"
   ]
  },
  {
   "cell_type": "code",
   "execution_count": 6,
   "metadata": {},
   "outputs": [],
   "source": [
    "config_files = os.listdir(input_folder)"
   ]
  },
  {
   "cell_type": "code",
   "execution_count": 7,
   "metadata": {},
   "outputs": [],
   "source": [
    "for file in config_files:\n",
    "\n",
    "    for q in qualities:\n",
    "        for i in instances:\n",
    "                with open(input_folder+file, \"r\") as f:\n",
    "                    config = list(yaml.safe_load_all(f))\n",
    "                    service_name = file.replace(\".yaml\",\"\")\n",
    "                    svc_label = \"-%d-%d\" % (q, i)\n",
    "                    # Update service name\n",
    "                    config[0][\"metadata\"][\"name\"]+=svc_label\n",
    "                    config[0][\"metadata\"][\"labels\"][\"name\"] +=svc_label\n",
    "                    config[0][\"data\"][\"conf.json\"] = change_quality_complexisty(config[0][\"data\"][\"conf.json\"],q)\n",
    "\n",
    "                    config[1][\"metadata\"][\"name\"]+=svc_label\n",
    "                    config[1][\"spec\"][\"selector\"][\"matchLabels\"][\"app\"]+=svc_label\n",
    "                    # set init replica to 0\n",
    "                    config[1][\"spec\"][\"replicas\"] = 0\n",
    "                    config[1][\"spec\"][\"template\"][\"metadata\"][\"labels\"][\"app\"] +=svc_label\n",
    "                    # set node to edge node name\n",
    "                    config[1][\"spec\"][\"template\"][\"spec\"][\"nodeName\"] = \"dummy\"\n",
    "                    config[1][\"spec\"][\"template\"][\"spec\"][\"containers\"][0][\"env\"][0][\"value\"]+=svc_label\n",
    "                    # Add cpu assignment\n",
    "                    config[1][\"spec\"][\"template\"][\"spec\"][\"containers\"][0][\"env\"].append({'name':\"CPU_REQUEST\",'value':str(int(int(config[1][\"spec\"][\"template\"][\"spec\"][\"containers\"][0][\"resources\"][\"requests\"][\"cpu\"].replace(\"m\",\"\"))/100))})\n",
    "                    # Set initial delay\n",
    "                    config[1][\"spec\"][\"template\"][\"spec\"][\"containers\"][0][\"readinessProbe\"][\"initialDelaySeconds\"] = 0\n",
    "                    config[1][\"spec\"][\"template\"][\"spec\"][\"volumes\"][0][\"configMap\"][\"name\"]+=svc_label\n",
    "\n",
    "                    config[2][\"metadata\"][\"name\"]+=svc_label\n",
    "                    config[2][\"spec\"][\"selector\"][\"app\"]+=svc_label\n",
    "\n",
    "                    # output\n",
    "                    output_file_name=service_name+svc_label+\".yaml\"\n",
    "                    yaml.safe_dump_all(config)\n",
    "                    with open(output_folder+output_file_name,\"w\") as f2:\n",
    "                        yaml.safe_dump_all(config,f2,)\n"
   ]
  },
  {
   "cell_type": "code",
   "execution_count": 8,
   "metadata": {},
   "outputs": [
    {
     "data": {
      "text/plain": [
       "'{\"processes\": 2, \"logging\": true, \"protocol\": \"http\", \"endpoints\": [{\"name\": \"endpoint1\", \"execution_mode\": \"parallel\", \"cpu_complexity\": {\"execution_time\": 0.15000000000000002, \"threads\": 1}, \"network_complexity\": {\"forward_requests\": \"asynchronous\", \"response_payload_size\": 512, \"called_services\": null}}]}'"
      ]
     },
     "execution_count": 8,
     "metadata": {},
     "output_type": "execute_result"
    }
   ],
   "source": [
    "config[0][\"data\"][\"conf.json\"]"
   ]
  }
 ],
 "metadata": {
  "kernelspec": {
   "display_name": "base",
   "language": "python",
   "name": "python3"
  },
  "language_info": {
   "codemirror_mode": {
    "name": "ipython",
    "version": 3
   },
   "file_extension": ".py",
   "mimetype": "text/x-python",
   "name": "python",
   "nbconvert_exporter": "python",
   "pygments_lexer": "ipython3",
   "version": "3.10.9"
  }
 },
 "nbformat": 4,
 "nbformat_minor": 2
}
