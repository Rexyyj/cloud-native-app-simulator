{
 "cells": [
  {
   "cell_type": "code",
   "execution_count": 1,
   "metadata": {},
   "outputs": [],
   "source": [
    "import yaml\n",
    "import os\n",
    "import numpy as np"
   ]
  },
  {
   "cell_type": "code",
   "execution_count": 2,
   "metadata": {},
   "outputs": [],
   "source": [
    "input_folder = \"./k8s_raw/\"\n",
    "output_folder= \"./k8s_converted/\""
   ]
  },
  {
   "cell_type": "code",
   "execution_count": 3,
   "metadata": {},
   "outputs": [],
   "source": [
    "qualities = [1,2,3]\n",
    "instances = [1,2,3,4,5]\n",
    "edge_servers=[\n",
    "    (1, \"edge-1\"),\n",
    "    (2, \"edge-2\"),\n",
    "    (3, \"edge-3\"),\n",
    "    (4, \"edge-4\"),\n",
    "    (5, \"edge-5\"),\n",
    "    (6, \"edge-6\"),\n",
    "    (7, \"edge-7\"),\n",
    "    (8, \"edge-8\"),\n",
    "    (9, \"edge-9\"),\n",
    "    (10, \"edge-10\")\n",
    "]\n"
   ]
  },
  {
   "cell_type": "code",
   "execution_count": 7,
   "metadata": {},
   "outputs": [],
   "source": [
    "try:\n",
    "    os.mkdir(output_folder)\n",
    "except:\n",
    "    os.system(\"rm -rf \"+output_folder)\n",
    "    os.mkdir(output_folder)"
   ]
  },
  {
   "cell_type": "code",
   "execution_count": 5,
   "metadata": {},
   "outputs": [],
   "source": [
    "config_files = os.listdir(input_folder)"
   ]
  },
  {
   "cell_type": "code",
   "execution_count": 6,
   "metadata": {},
   "outputs": [],
   "source": [
    "for file in config_files:\n",
    "    with open(input_folder+file, \"r\") as f:\n",
    "        config = list(yaml.safe_load_all(f))\n",
    "        service_name = file.replace(\".yaml\",\"\")\n",
    "\n",
    "        for q in qualities:\n",
    "            for i in instances:\n",
    "                for s in edge_servers:\n",
    "                    svc_label = \"-%d-%d-%d\" % (q, i, s[0])\n",
    "                    # Update service name\n",
    "                    config[0][\"metadata\"][\"name\"]+=svc_label\n",
    "                    config[0][\"metadata\"][\"labels\"][\"name\"] +=svc_label\n",
    "\n",
    "                    config[1][\"metadata\"][\"name\"]+=svc_label\n",
    "                    config[1][\"spec\"][\"selector\"][\"matchLabels\"][\"app\"]+=svc_label\n",
    "                    # set init replica to 0\n",
    "                    config[1][\"spec\"][\"replicas\"] = 0\n",
    "                    config[1][\"spec\"][\"template\"][\"metadata\"][\"labels\"][\"app\"] +=svc_label\n",
    "                    # set node to edge node name\n",
    "                    config[1][\"spec\"][\"template\"][\"spec\"][\"nodeName\"] = s[1]\n",
    "                    config[1][\"spec\"][\"template\"][\"spec\"][\"containers\"][0][\"env\"][0][\"value\"]+=svc_label\n",
    "                    # Add cpu assignment\n",
    "                    config[1][\"spec\"][\"template\"][\"spec\"][\"containers\"][0][\"env\"].append({'name':\"CPU_REQUEST\",'value':int(int(config[1][\"spec\"][\"template\"][\"spec\"][\"containers\"][0][\"resources\"][\"requests\"][\"cpu\"].replace(\"m\",\"\"))/100)})\n",
    "                    # Set initial delay\n",
    "                    config[1][\"spec\"][\"template\"][\"spec\"][\"containers\"][0][\"readinessProbe\"][\"initialDelaySeconds\"] = \"0\"\n",
    "                    config[1][\"spec\"][\"template\"][\"spec\"][\"volumes\"][0][\"configMap\"][\"name\"]+=svc_label\n",
    "\n",
    "                    config[2][\"metadata\"][\"name\"]+=svc_label\n",
    "                    config[2][\"spec\"][\"selector\"][\"app\"]+=svc_label\n",
    "\n",
    "                    # output\n",
    "                    output_file_name=service_name+svc_label+\".yaml\"\n",
    "                    yaml.safe_dump_all(config)\n",
    "                    with open(output_folder+output_file_name,\"w\") as f2:\n",
    "                        yaml.safe_dump_all(config,f2,)\n",
    "\n",
    "\n",
    "\n",
    "\n",
    "\n"
   ]
  },
  {
   "cell_type": "code",
   "execution_count": null,
   "metadata": {},
   "outputs": [],
   "source": []
  }
 ],
 "metadata": {
  "kernelspec": {
   "display_name": "base",
   "language": "python",
   "name": "python3"
  },
  "language_info": {
   "codemirror_mode": {
    "name": "ipython",
    "version": 3
   },
   "file_extension": ".py",
   "mimetype": "text/x-python",
   "name": "python",
   "nbconvert_exporter": "python",
   "pygments_lexer": "ipython3",
   "version": "3.10.9"
  }
 },
 "nbformat": 4,
 "nbformat_minor": 2
}
