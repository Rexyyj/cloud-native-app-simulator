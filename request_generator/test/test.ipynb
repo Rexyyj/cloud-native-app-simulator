{
 "cells": [
  {
   "cell_type": "code",
   "execution_count": null,
   "id": "6ce64a71",
   "metadata": {},
   "outputs": [],
   "source": []
  },
  {
   "cell_type": "code",
   "execution_count": 4,
   "id": "1b04f0df",
   "metadata": {},
   "outputs": [],
   "source": [
    "chain = \"2,ms1-2-1,1-1\""
   ]
  },
  {
   "cell_type": "code",
   "execution_count": 5,
   "id": "0dbd29db",
   "metadata": {},
   "outputs": [],
   "source": [
    "mss = chain.split(\",\")\n",
    "\n",
    "avg_quality=0\n",
    "for i in range(1, len(mss)):\n",
    "    avg_quality+=int(mss[i].split(\"-\")[-2])\n",
    "avg_quality = avg_quality/(len(mss)-1)        "
   ]
  },
  {
   "cell_type": "code",
   "execution_count": 6,
   "id": "df8f4852",
   "metadata": {},
   "outputs": [
    {
     "data": {
      "text/plain": [
       "1.5"
      ]
     },
     "execution_count": 6,
     "metadata": {},
     "output_type": "execute_result"
    }
   ],
   "source": [
    "avg_quality"
   ]
  }
 ],
 "metadata": {
  "kernelspec": {
   "display_name": "mschain",
   "language": "python",
   "name": "python3"
  },
  "language_info": {
   "codemirror_mode": {
    "name": "ipython",
    "version": 3
   },
   "file_extension": ".py",
   "mimetype": "text/x-python",
   "name": "python",
   "nbconvert_exporter": "python",
   "pygments_lexer": "ipython3",
   "version": "3.9.23"
  }
 },
 "nbformat": 4,
 "nbformat_minor": 5
}
